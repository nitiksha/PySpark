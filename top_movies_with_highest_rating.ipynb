{
 "cells": [
  {
   "cell_type": "code",
   "execution_count": 0,
   "metadata": {
    "application/vnd.databricks.v1+cell": {
     "cellMetadata": {
      "byteLimit": 2048000,
      "rowLimit": 10000
     },
     "inputWidgets": {},
     "nuid": "04a16ea8-148c-458f-af24-125a4c986226",
     "showTitle": false,
     "tableResultSettingsMap": {},
     "title": ""
    }
   },
   "outputs": [],
   "source": [
    "from pyspark.sql.functions import avg,col,split"
   ]
  },
  {
   "cell_type": "code",
   "execution_count": 0,
   "metadata": {
    "application/vnd.databricks.v1+cell": {
     "cellMetadata": {
      "byteLimit": 2048000,
      "rowLimit": 10000
     },
     "inputWidgets": {},
     "nuid": "cd0f815e-bfb0-475c-a49e-ac3eba1d2b55",
     "showTitle": false,
     "tableResultSettingsMap": {},
     "title": ""
    }
   },
   "outputs": [
    {
     "output_type": "stream",
     "name": "stdout",
     "output_type": "stream",
     "text": [
      "+---+----------+\n|id |Movie Name|\n+---+----------+\n|1  |Movie A   |\n|2  |Movie B   |\n|3  |Movie C   |\n|4  |Movie D   |\n|5  |Movie E   |\n|6  |Movie F   |\n|7  |Movie G   |\n+---+----------+\n\n"
     ]
    }
   ],
   "source": [
    "movie_data = [(1,\"Movie A\"),(2,\"Movie B\"),(3,\"Movie C\"),(4,\"Movie D\"),(5,\"Movie E\"),(6,\"Movie F\"),(7,\"Movie G\")]\n",
    "movie_df = spark.createDataFrame(movie_data,[\"id\",\"Movie Name\"])\n",
    "movie_df.show(truncate=False)"
   ]
  },
  {
   "cell_type": "code",
   "execution_count": 0,
   "metadata": {
    "application/vnd.databricks.v1+cell": {
     "cellMetadata": {
      "byteLimit": 2048000,
      "rowLimit": 10000
     },
     "inputWidgets": {},
     "nuid": "e68b724d-8ede-4264-b28b-bd7d9ad5811e",
     "showTitle": false,
     "tableResultSettingsMap": {},
     "title": ""
    }
   },
   "outputs": [
    {
     "output_type": "stream",
     "name": "stdout",
     "output_type": "stream",
     "text": [
      "+--------+-------+-----------+\n|movie_id|user_id|user_rating|\n+--------+-------+-----------+\n|1       |101    |2          |\n|1       |102    |4          |\n|1       |103    |2          |\n|1       |104    |4          |\n|1       |105    |1          |\n|2       |101    |3          |\n|2       |102    |5          |\n|2       |103    |2          |\n|2       |104    |1          |\n|2       |105    |1          |\n|3       |101    |2          |\n|3       |102    |1          |\n|3       |103    |3          |\n|3       |104    |4          |\n|3       |105    |3          |\n|4       |101    |1          |\n|4       |102    |4          |\n|4       |103    |1          |\n|4       |104    |1          |\n|4       |105    |1          |\n+--------+-------+-----------+\nonly showing top 20 rows\n\n"
     ]
    }
   ],
   "source": [
    "from random import randint\n",
    "# Generating user ratings data\n",
    "user_ratings_data = []\n",
    "user_ids = [101, 102, 103, 104, 105]  # Sample user IDs\n",
    "\n",
    "# Randomly assigning ratings for each movie\n",
    "for movie_id, movie_name in movie_data:\n",
    "    for user_id in user_ids:\n",
    "        user_ratings_data.append((movie_id, user_id, randint(1, 5)))  # Rating between 1 and 5\n",
    "\n",
    "# Create user ratings dataframe\n",
    "user_ratings_df = spark.createDataFrame(user_ratings_data, [\"movie_id\", \"user_id\", \"user_rating\"])\n",
    "\n",
    "# Show the user ratings dataframe\n",
    "user_ratings_df.show(truncate=False)"
   ]
  },
  {
   "cell_type": "code",
   "execution_count": 0,
   "metadata": {
    "application/vnd.databricks.v1+cell": {
     "cellMetadata": {
      "byteLimit": 2048000,
      "rowLimit": 10000
     },
     "inputWidgets": {},
     "nuid": "f980e73d-6b2d-43e3-99b8-6b55cf3b1536",
     "showTitle": false,
     "tableResultSettingsMap": {},
     "title": ""
    }
   },
   "outputs": [
    {
     "output_type": "stream",
     "name": "stdout",
     "output_type": "stream",
     "text": [
      "+--------+----------+\n|movie_id|avg_rating|\n+--------+----------+\n|       1|       2.6|\n|       2|       2.4|\n|       3|       2.6|\n|       4|       1.6|\n|       5|       3.0|\n|       6|       3.0|\n|       7|       3.8|\n+--------+----------+\n\n+--------+----------+----------+\n|movie_id|avg_rating|Movie Name|\n+--------+----------+----------+\n|       7|       3.8|   Movie G|\n|       5|       3.0|   Movie E|\n|       6|       3.0|   Movie F|\n+--------+----------+----------+\n\n"
     ]
    }
   ],
   "source": [
    "avg_ratings = user_ratings_df.groupBy(\"movie_id\").agg(avg(\"user_rating\").alias(\"avg_rating\"))\n",
    "avg_ratings.show()\n",
    "\n",
    "top_movie = avg_ratings.join(movie_df,avg_ratings.movie_id==movie_df.id, \"left\").orderBy(\"avg_rating\",ascending=False)\n",
    "\n",
    "top_movie.select(\"movie_id\",\"avg_rating\",\"Movie Name\").limit(3).show()\n"
   ]
  }
 ],
 "metadata": {
  "application/vnd.databricks.v1+notebook": {
   "computePreferences": null,
   "dashboards": [],
   "environmentMetadata": {
    "base_environment": "",
    "client": "1"
   },
   "language": "python",
   "notebookMetadata": {
    "pythonIndentUnit": 4
   },
   "notebookName": "top_movies_with_highest_rating",
   "widgets": {}
  }
 },
 "nbformat": 4,
 "nbformat_minor": 0
}
